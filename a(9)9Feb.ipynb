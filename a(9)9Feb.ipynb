{
 "cells": [
  {
   "cell_type": "markdown",
   "id": "38b7d42f-a9a8-4327-a08b-1e7fe7dd4c76",
   "metadata": {},
   "source": [
    "# Quetion :-1"
   ]
  },
  {
   "cell_type": "code",
   "execution_count": 1,
   "id": "183d92c8-648c-439f-a728-2275c0379f43",
   "metadata": {},
   "outputs": [],
   "source": [
    "class vehicle:\n",
    "    def __init__(self,name_of_vehicle,max_speed,average_of_vehicle):\n",
    "            self.name_of_vehicle=name_of_vehicle\n",
    "            self.max_speed =max_speed\n",
    "            self.average_of_vehicle=average_of_vehicle  \n",
    "   "
   ]
  },
  {
   "cell_type": "markdown",
   "id": "7b906f30-823a-4db2-9450-aedf94b43ee4",
   "metadata": {},
   "source": [
    "# Quetion :-2"
   ]
  },
  {
   "cell_type": "code",
   "execution_count": 3,
   "id": "487fe6d9-2bd6-4ec2-b4fc-5f214f51d664",
   "metadata": {},
   "outputs": [
    {
     "name": "stdout",
     "output_type": "stream",
     "text": [
      "Name of the vehicle is: Car\n",
      "Seating capacity of the vehicle is: 5\n",
      "Name of the vehicle is: Bus\n",
      "Seating capacity of the vehicle is: 20\n",
      "Name of the vehicle is: Truck\n",
      "Seating capacity of the vehicle is: 10\n"
     ]
    }
   ],
   "source": [
    "class Car(Vehicle):\n",
    "    def seating_capacity(self,capacity):\n",
    "        print(\"Name of the vehicle is:\",self.name_of_vehicle)\n",
    "        print(\"Seating capacity of the vehicle is:\",capacity)\n",
    "\n",
    "class Bus(Vehicle):\n",
    "    def seating_capacity(self,capacity):\n",
    "        print(\"Name of the vehicle is:\",self.name_of_vehicle)\n",
    "        print(\"Seating capacity of the vehicle is:\",capacity)\n",
    "\n",
    "class Truck(Vehicle):\n",
    "    def seating_capacity(self,capacity):\n",
    "        print(\"Name of the vehicle is:\",self.name_of_vehicle)\n",
    "        print(\"Seating capacity of the vehicle is:\",capacity)\n",
    "\n",
    "car=Car(\"Car\",200,20)\n",
    "car.seating_capacity(5)\n",
    "bus=Bus(\"Bus\",100,10)\n",
    "bus.seating_capacity(20)\n",
    "truck=Truck(\"Truck\",150,15)\n",
    "truck.seating_capacity(10)"
   ]
  },
  {
   "cell_type": "markdown",
   "id": "9faf25cf-b622-414d-a067-72afadff87eb",
   "metadata": {},
   "source": [
    "# Quetion :- 3"
   ]
  },
  {
   "cell_type": "markdown",
   "id": "028f7020-ba30-4202-933d-9f49de7c211b",
   "metadata": {},
   "source": [
    "Multiple inheritance is a feature of object-oriented programming where a class can inherit attributes and methods from more than one parent class.\n"
   ]
  },
  {
   "cell_type": "code",
   "execution_count": 2,
   "id": "b6aebd15-c85d-4b6b-acc5-dd74ab069818",
   "metadata": {},
   "outputs": [
    {
     "name": "stdout",
     "output_type": "stream",
     "text": [
      "This is class A.\n",
      "This is class B.\n",
      "This is class C which inherits features of both classes A and B.\n"
     ]
    }
   ],
   "source": [
    "class A:\n",
    "    def A(self):\n",
    "        print('This is class A.')        \n",
    "class B:\n",
    "    def B(self):\n",
    "        print('This is class B.')        \n",
    "class C(A,B):\n",
    "    def C(self):\n",
    "        print('This is class C which inherits features of both classes A and B.')\n",
    "o = C()\n",
    "o.A()\n",
    "o.B()\n",
    "o.C()\n"
   ]
  },
  {
   "cell_type": "markdown",
   "id": "2ef2c62a-d003-4983-9b50-c3e7b20965b0",
   "metadata": {},
   "source": [
    "# Quetion :- 4"
   ]
  },
  {
   "cell_type": "markdown",
   "id": "2c637fde-2eb6-4a08-b81c-73600efd0cdf",
   "metadata": {},
   "source": [
    "Getters: These are the methods used in Object-Oriented Programming (OOPS) which helps to access the private attributes from a class.\n",
    "\n",
    "Setters: These are the methods used in OOPS feature which helps to set the value to private attributes in a class."
   ]
  },
  {
   "cell_type": "code",
   "execution_count": 3,
   "id": "834997fb-9b53-45b5-bf2b-b924f32d0ee7",
   "metadata": {},
   "outputs": [],
   "source": [
    "class SampleClass:\n",
    "\n",
    "    def __init__(self, a):\n",
    "        ## private varibale or property in Python\n",
    "        self.__a = a\n",
    "\n",
    "    ## getter method to get the properties using an object\n",
    "    def get_a(self):\n",
    "        return self.__a\n",
    "\n",
    "    ## setter method to change the value 'a' using an object\n",
    "    def set_a(self, a):\n",
    "        self.__a = a\n",
    "        \n",
    "        "
   ]
  },
  {
   "cell_type": "markdown",
   "id": "f598fe27-b71e-496e-9764-8f26ab8397a5",
   "metadata": {},
   "source": [
    "# Quetion :- 5"
   ]
  },
  {
   "cell_type": "markdown",
   "id": "14185972-ae6f-420d-b712-419eaf2ebb07",
   "metadata": {},
   "source": [
    "Method overriding is a feature of object-oriented programming languages where the subclass or child class can provide the program with specific characteristics or a specific implementation process of data provided that are already defined in the parent class or superclass."
   ]
  },
  {
   "cell_type": "code",
   "execution_count": 4,
   "id": "6a31d5cf-adbf-470f-9636-6f66d3262cb1",
   "metadata": {},
   "outputs": [
    {
     "name": "stdout",
     "output_type": "stream",
     "text": [
      "Inside Parent\n",
      "Inside Child\n"
     ]
    }
   ],
   "source": [
    "\n",
    "class Parent():\n",
    "      \n",
    "    def __init__(self):\n",
    "        self.value = \"Inside Parent\"\n",
    "          \n",
    "    \n",
    "    def show(self):\n",
    "        print(self.value)\n",
    "          \n",
    "\n",
    "class Child(Parent):\n",
    "      \n",
    "\n",
    "    def __init__(self):\n",
    "        self.value = \"Inside Child\"\n",
    "          \n",
    "\n",
    "    def show(self):\n",
    "        print(self.value)\n",
    "          \n",
    "          \n",
    "\n",
    "obj1 = Parent()\n",
    "obj2 = Child()\n",
    "  \n",
    "obj1.show()\n",
    "obj2.show()"
   ]
  },
  {
   "cell_type": "code",
   "execution_count": 20,
   "id": "5168cc2f-7221-4f19-b87d-e4e634dff9f8",
   "metadata": {},
   "outputs": [
    {
     "ename": "AttributeError",
     "evalue": "'super' object has no attribute 'age'",
     "output_type": "error",
     "traceback": [
      "\u001b[0;31m---------------------------------------------------------------------------\u001b[0m",
      "\u001b[0;31mAttributeError\u001b[0m                            Traceback (most recent call last)",
      "Cell \u001b[0;32mIn[20], line 11\u001b[0m\n\u001b[1;32m      9\u001b[0m         \u001b[38;5;28mself\u001b[39m\u001b[38;5;241m.\u001b[39mname\u001b[38;5;241m=\u001b[39mname\n\u001b[1;32m     10\u001b[0m A\u001b[38;5;241m=\u001b[39ma(\u001b[38;5;124m\"\u001b[39m\u001b[38;5;124m20\u001b[39m\u001b[38;5;124m\"\u001b[39m)\n\u001b[0;32m---> 11\u001b[0m B\u001b[38;5;241m=\u001b[39m\u001b[43mb\u001b[49m\u001b[43m(\u001b[49m\u001b[38;5;124;43m\"\u001b[39;49m\u001b[38;5;124;43mkrisha\u001b[39;49m\u001b[38;5;124;43m\"\u001b[39;49m\u001b[43m)\u001b[49m\n\u001b[1;32m     12\u001b[0m \u001b[38;5;28mprint\u001b[39m(A\u001b[38;5;241m.\u001b[39mage)\n\u001b[1;32m     13\u001b[0m \u001b[38;5;28mprint\u001b[39m(B\u001b[38;5;241m.\u001b[39mage)\n",
      "Cell \u001b[0;32mIn[20], line 8\u001b[0m, in \u001b[0;36mb.__init__\u001b[0;34m(self, name)\u001b[0m\n\u001b[1;32m      7\u001b[0m \u001b[38;5;28;01mdef\u001b[39;00m  \u001b[38;5;21m__init__\u001b[39m(\u001b[38;5;28mself\u001b[39m,name):\n\u001b[0;32m----> 8\u001b[0m     \u001b[38;5;28;43msuper\u001b[39;49m\u001b[43m(\u001b[49m\u001b[43m)\u001b[49m\u001b[38;5;241;43m.\u001b[39;49m\u001b[43mage\u001b[49m()\n\u001b[1;32m      9\u001b[0m     \u001b[38;5;28mself\u001b[39m\u001b[38;5;241m.\u001b[39mname\u001b[38;5;241m=\u001b[39mname\n",
      "\u001b[0;31mAttributeError\u001b[0m: 'super' object has no attribute 'age'"
     ]
    }
   ],
   "source": [
    "class a:\n",
    "    def __init__(self,age):\n",
    "        self.age=age\n",
    "      \n",
    "        \n",
    "class b(a):\n",
    "    def  __init__(self,name):\n",
    "        super().age()\n",
    "        self.name=name\n",
    "A=a(\"20\")\n",
    "B=b(\"krisha\")\n",
    "print(A.age)\n",
    "print(B.age)\n",
    "print(b.name)"
   ]
  },
  {
   "cell_type": "code",
   "execution_count": null,
   "id": "64acc7cf-5e28-47b9-91b4-374c8c4e422b",
   "metadata": {},
   "outputs": [],
   "source": []
  },
  {
   "cell_type": "code",
   "execution_count": null,
   "id": "901e83ab-73b8-4ecb-89ef-5b6a6a6c04b2",
   "metadata": {},
   "outputs": [],
   "source": []
  }
 ],
 "metadata": {
  "kernelspec": {
   "display_name": "Python 3 (ipykernel)",
   "language": "python",
   "name": "python3"
  },
  "language_info": {
   "codemirror_mode": {
    "name": "ipython",
    "version": 3
   },
   "file_extension": ".py",
   "mimetype": "text/x-python",
   "name": "python",
   "nbconvert_exporter": "python",
   "pygments_lexer": "ipython3",
   "version": "3.10.8"
  }
 },
 "nbformat": 4,
 "nbformat_minor": 5
}
